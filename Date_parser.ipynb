{
 "cells": [
  {
   "cell_type": "code",
   "execution_count": 154,
   "metadata": {},
   "outputs": [],
   "source": [
    "import jellyfish\n",
    "import math"
   ]
  },
  {
   "cell_type": "code",
   "execution_count": 177,
   "metadata": {},
   "outputs": [],
   "source": [
    "############### Date to convert###################\n",
    "date='2021 gruod. 31 d.'\n",
    "##################################################"
   ]
  },
  {
   "cell_type": "code",
   "execution_count": 178,
   "metadata": {},
   "outputs": [
    {
     "name": "stdout",
     "output_type": "stream",
     "text": [
      "0.746031746031746\n",
      "2021 12 31 d.\n"
     ]
    }
   ],
   "source": [
    "# dictionary of month name to month number\n",
    "\n",
    "datos={'Sausis':'01',\n",
    "       'Vasaris':'02',\n",
    "       'Kovas':'03',\n",
    "       'Balandis':'04',\n",
    "        'Gegužė':'05',\n",
    "      'Birželis':'06',\n",
    "      'Liepa':'07',\n",
    "      'Rugpjūtis':'08',\n",
    "      'Rugsėjos':'09',\n",
    "      'Spalis':'10',\n",
    "      'Lapkritis':'11',\n",
    "      'Gruodis':'12'}\n",
    "\n",
    "date=date.split(\" \") #split date string into list\n",
    "values=[] # declaring a list to collect similarity values\n",
    "for item in date:\n",
    "    for key in datos:\n",
    "        #check how similar all month names in dictionary are to all 'words' in list\n",
    "        ###### comparison algorithm can be changed https://jellyfish.readthedocs.io/en/latest/comparison.html#jaro-similarity\n",
    "        value=jellyfish.jaro_winkler_similarity(key,item) \n",
    "        values.append(value) # append all similarity values to the list\n",
    "        \n",
    "if max(values)>=0.65: ################# similarity to consider match found, adjust if needed\n",
    "    \n",
    "   #calculate index of word which will be replaced in list date\n",
    "    index_date=(values.index(max(values))+1)/len(datos)\n",
    "    index_date=math.ceil(index_date)-1\n",
    "    \n",
    "    #calculate index of the word in dictionary which will be used for replacement\n",
    "    index_datos=((values.index(max(values))+1)%len(datos))-1\n",
    "    \n",
    "    #extract key value for dictionary based on index calculated above\n",
    "    temp = list(datos.items()) #convert dictionary to list of lists\n",
    "    skaicius=temp[index_datos] #get list value at the given index\n",
    "    skaicius=skaicius[0] # as value is a list months name is index 0 in the list\n",
    "   \n",
    "    #replace index value in list date with value based on key in dictionary datos\n",
    "    date[index_date]=datos.get(skaicius)\n",
    "    \n",
    "#join list dates back to string    \n",
    "date=' '.join(date)\n",
    "\n",
    "\n",
    "print (max(values))\n",
    "print (date)\n",
    "\n",
    "            \n",
    "\n",
    "\n",
    "        \n",
    "        \n",
    "            "
   ]
  },
  {
   "cell_type": "code",
   "execution_count": null,
   "metadata": {},
   "outputs": [],
   "source": []
  }
 ],
 "metadata": {
  "kernelspec": {
   "display_name": "Python 3",
   "language": "python",
   "name": "python3"
  },
  "language_info": {
   "codemirror_mode": {
    "name": "ipython",
    "version": 3
   },
   "file_extension": ".py",
   "mimetype": "text/x-python",
   "name": "python",
   "nbconvert_exporter": "python",
   "pygments_lexer": "ipython3",
   "version": "3.8.5"
  }
 },
 "nbformat": 4,
 "nbformat_minor": 4
}
