{
 "cells": [
  {
   "cell_type": "code",
   "execution_count": 395,
   "metadata": {},
   "outputs": [],
   "source": [
    "import jellyfish\n",
    "import math\n",
    "import re\n",
    "import datetime"
   ]
  },
  {
   "cell_type": "code",
   "execution_count": 396,
   "metadata": {},
   "outputs": [],
   "source": [
    "expression='[a-zA-ZąčęėįšųūžĄČĘĖĮŠŲŪŽ]'"
   ]
  },
  {
   "cell_type": "code",
   "execution_count": 397,
   "metadata": {},
   "outputs": [],
   "source": [
    "############### Date to convert###################\n",
    "date='15/1/2021' \n",
    "##################################################"
   ]
  },
  {
   "cell_type": "code",
   "execution_count": 398,
   "metadata": {},
   "outputs": [
    {
     "name": "stdout",
     "output_type": "stream",
     "text": [
      "15/1/2021\n"
     ]
    }
   ],
   "source": [
    "if len(date)>20:\n",
    "    \n",
    "    date=re.sub(expression,'',date)\n",
    "print(date)"
   ]
  },
  {
   "cell_type": "code",
   "execution_count": 399,
   "metadata": {},
   "outputs": [
    {
     "name": "stdout",
     "output_type": "stream",
     "text": [
      "0.0\n",
      "15/1/2021\n"
     ]
    }
   ],
   "source": [
    "# dictionary of month name to month number\n",
    "\n",
    "datos={'Sausis':'01',\n",
    "       'Vasaris':'02',\n",
    "       'Kovas':'03',\n",
    "       'Balandis':'04',\n",
    "        'Gegužė':'05',\n",
    "      'Birželis':'06',\n",
    "      'Liepa':'07',\n",
    "      'Rugpjūtis':'08',\n",
    "      'Rugsėjos':'09',\n",
    "      'Spalis':'10',\n",
    "      'Lapkritis':'11',\n",
    "      'Gruodis':'12'}\n",
    "\n",
    "date=date.split(\" \") #split date string into list\n",
    "values=[] # declaring a list to collect similarity values\n",
    "for item in date:\n",
    "    for key in datos:\n",
    "        #check how similar all month names in dictionary are to all 'words' in list\n",
    "        ###### comparison algorithm can be changed https://jellyfish.readthedocs.io/en/latest/comparison.html#jaro-similarity\n",
    "        value=jellyfish.jaro_winkler_similarity(key,item) \n",
    "        values.append(value) # append all similarity values to the list\n",
    "        \n",
    "if max(values)>=0.65: ################# similarity to consider match found, adjust if needed\n",
    "    \n",
    "   #calculate index of word which will be replaced in list date\n",
    "    index_date=(values.index(max(values))+1)/len(datos)\n",
    "    index_date=math.ceil(index_date)-1\n",
    "    \n",
    "    #calculate index of the word in dictionary which will be used for replacement\n",
    "    index_datos=((values.index(max(values))+1)%len(datos))-1\n",
    "    \n",
    "    #extract key value for dictionary based on index calculated above\n",
    "    temp = list(datos.items()) #convert dictionary to list of lists\n",
    "    skaicius=temp[index_datos] #get list value at the given index\n",
    "    skaicius=skaicius[0] # as value is a list months name is index 0 in the list\n",
    "   \n",
    "    #replace index value in list date with value based on key in dictionary datos\n",
    "    date[index_date]=datos.get(skaicius)\n",
    "    \n",
    "#join list dates back to string    \n",
    "date=' '.join(date)\n",
    "\n",
    "\n",
    "print (max(values))\n",
    "print (date)\n",
    "\n",
    "            \n",
    "\n",
    "\n",
    "        \n",
    "        \n",
    "            "
   ]
  },
  {
   "cell_type": "code",
   "execution_count": 400,
   "metadata": {},
   "outputs": [
    {
     "data": {
      "text/plain": [
       "'15/1/2021'"
      ]
     },
     "execution_count": 400,
     "metadata": {},
     "output_type": "execute_result"
    }
   ],
   "source": [
    "# removes all letters from the date\n",
    "\n",
    "date=re.sub(expression,'',date)\n",
    "date"
   ]
  },
  {
   "cell_type": "code",
   "execution_count": 401,
   "metadata": {},
   "outputs": [
    {
     "data": {
      "text/plain": [
       "'15-1-2021'"
      ]
     },
     "execution_count": 401,
     "metadata": {},
     "output_type": "execute_result"
    }
   ],
   "source": [
    "#replaces all separators with '-'\n",
    "\n",
    "date=date.replace('.','-')\n",
    "date=date.replace('/','-')\n",
    "date=date.replace(' ','-')\n",
    "date=date.replace('_','-')\n",
    "date"
   ]
  },
  {
   "cell_type": "code",
   "execution_count": 402,
   "metadata": {},
   "outputs": [
    {
     "name": "stdout",
     "output_type": "stream",
     "text": [
      "15-1-2021\n",
      "15-1-2021\n"
     ]
    }
   ],
   "source": [
    "# if there are separators at the end removes them\n",
    "\n",
    "for i in date:\n",
    "    if date[-1]=='-':\n",
    "        date=date[:-1]\n",
    "    else:\n",
    "        break\n",
    "\n",
    "print (date)\n",
    "\n",
    "# if there are separators at the beginning removes them\n",
    "\n",
    "for i in date:\n",
    "    if date[0]=='-':\n",
    "        date=date[1:]\n",
    "    else:\n",
    "        break\n",
    "\n",
    "print (date)"
   ]
  },
  {
   "cell_type": "code",
   "execution_count": 403,
   "metadata": {},
   "outputs": [],
   "source": [
    "# if date length less then 3 return date\n",
    "\n",
    "if len(date)<=3:\n",
    "    print(date)"
   ]
  },
  {
   "cell_type": "code",
   "execution_count": 404,
   "metadata": {},
   "outputs": [
    {
     "name": "stdout",
     "output_type": "stream",
     "text": [
      "01\n",
      "2021-01-15\n"
     ]
    }
   ],
   "source": [
    "year = datetime.date.today().year\n",
    "\n",
    "\n",
    "\n",
    "if date.index('-')!=4 and date.count('-')==2:\n",
    "    \n",
    "    date=date.split(\"-\")\n",
    "    str1=date[0]\n",
    "    str2=date[1]\n",
    "    str3=date[2]\n",
    "    \n",
    "    \n",
    "        \n",
    "    \n",
    "    if len(str1)==1:\n",
    "        str1=f'0{str1}'\n",
    "        print(str1)\n",
    "    \n",
    "    if len(str2)==1:\n",
    "        str2=f'0{str2}'\n",
    "        print(str2)\n",
    "\n",
    "    if len(str3)==1:\n",
    "        str3=f'0{str3}'\n",
    "        print(str3)\n",
    "        \n",
    "    if f'20{str1}'==str(year+1) or f'20{str1}'==str(year) or f'20{str1}'==str(year-1):\n",
    "        date=f'20{str1}-{str2}-{str3}'\n",
    "        \n",
    "    if len(str3)==4 and int(str2)<=12:\n",
    "        date=f'{str3}-{str2}-{str1}'\n",
    "\n",
    "    if len(str3)==4 and int(str2)>12:\n",
    "        date=f'{str3}-{str1}-{str2}'\n",
    "\n",
    "    if len(str3)==2 and int(str2)<=12:\n",
    "        date=f'20{str3}-{str2}-{str1}'\n",
    "\n",
    "    if len(str3)==2 and int(str2)>12:\n",
    "        date=f'20{str3}-{str1}-{str2}'\n",
    "   \n",
    "      \n",
    "    print(date)\n",
    "    \n",
    "else:\n",
    "    print(date)\n",
    "    \n",
    "    \n"
   ]
  },
  {
   "cell_type": "code",
   "execution_count": null,
   "metadata": {},
   "outputs": [],
   "source": []
  }
 ],
 "metadata": {
  "kernelspec": {
   "display_name": "Python 3",
   "language": "python",
   "name": "python3"
  },
  "language_info": {
   "codemirror_mode": {
    "name": "ipython",
    "version": 3
   },
   "file_extension": ".py",
   "mimetype": "text/x-python",
   "name": "python",
   "nbconvert_exporter": "python",
   "pygments_lexer": "ipython3",
   "version": "3.8.5"
  }
 },
 "nbformat": 4,
 "nbformat_minor": 4
}
